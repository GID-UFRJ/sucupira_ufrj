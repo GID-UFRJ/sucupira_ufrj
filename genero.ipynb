{
 "cells": [
  {
   "cell_type": "markdown",
   "id": "09c7b523-5b0c-4678-b1eb-b6ed46b8b03f",
   "metadata": {},
   "source": [
    "# Adição de gênero aos dados da CAPES\n",
    "\n",
    "- **Nota**: O encoding dos arquivos csv da CAPES é **Latin-1 (ISO-8859-1)**"
   ]
  },
  {
   "cell_type": "code",
   "execution_count": null,
   "id": "7b51acd0-3c71-463b-9fb9-b1ccdc8c2b2d",
   "metadata": {},
   "outputs": [],
   "source": [
    "import pandas as pd\n",
    "import requests\n",
    "import json\n",
    "import random\n",
    "import time # Importa a biblioteca time para usar sleep\n",
    "import os"
   ]
  },
  {
   "cell_type": "code",
   "execution_count": null,
   "id": "cd586cdf-7be2-46c7-a807-6942b08aab6b",
   "metadata": {},
   "outputs": [],
   "source": [
    "discentes = pd.read_excel('capes_discente_2021-2023.xlsx') #Coloque o nome do seu arquivo aqui"
   ]
  },
  {
   "cell_type": "code",
   "execution_count": null,
   "id": "751ef0b5-5dce-4c34-9ef7-f23d5a0a8218",
   "metadata": {},
   "outputs": [],
   "source": [
    "discentes.columns"
   ]
  },
  {
   "cell_type": "code",
   "execution_count": null,
   "id": "947aed48",
   "metadata": {},
   "outputs": [],
   "source": [
    "primeiros_nomes = sorted({nome.strip().split(\" \")[0] for nome in discentes['NM_DISCENTE']})"
   ]
  },
  {
   "cell_type": "markdown",
   "id": "4fbff891-25c0-4d30-9bec-d8c073271938",
   "metadata": {},
   "source": [
    "## Obtendo gênero a partir da API do IBGE"
   ]
  },
  {
   "cell_type": "code",
   "execution_count": null,
   "id": "10ee51f5-9045-4a61-9583-d4a36f51491e",
   "metadata": {
    "collapsed": true,
    "jupyter": {
     "outputs_hidden": true
    }
   },
   "outputs": [],
   "source": [
    "# Definindo constantes para controle das requisições\n",
    "REQUEST_TIMEOUT = 10  # Tempo limite em segundos para cada requisição\n",
    "MAX_RETRIES = 3       # Número máximo de tentativas para cada sexo\n",
    "INITIAL_BACKOFF = 2   # Tempo inicial de espera entre tentativas (em segundos)\n",
    "\n",
    "def _get_frequencia_por_sexo(nome, sexo_param):\n",
    "    \"\"\"\n",
    "    Função auxiliar para buscar a frequência total de um nome para um sexo específico\n",
    "    com tentativas e backoff exponencial em caso de erro de conexão/timeout.\n",
    "    \"\"\"\n",
    "    url = f\"https://servicodados.ibge.gov.br/api/v2/censos/nomes/{nome}?sexo={sexo_param}\"\n",
    "    \n",
    "    for attempt in range(MAX_RETRIES):\n",
    "        try:\n",
    "            print(f\"  Tentativa {attempt + 1}/{MAX_RETRIES} para {nome.upper()} ({sexo_param})...\")\n",
    "            response = requests.get(url, timeout=REQUEST_TIMEOUT) \n",
    "            response.raise_for_status() # Levanta um erro para códigos de status HTTP 4xx/5xx\n",
    "            data = response.json()\n",
    "\n",
    "            total_frequencia = 0\n",
    "            if data and isinstance(data, list) and len(data) > 0 and data[0].get(\"res\"):\n",
    "                for item_periodo in data[0][\"res\"]:\n",
    "                    total_frequencia += item_periodo.get(\"frequencia\", 0)\n",
    "            \n",
    "            return total_frequencia\n",
    "\n",
    "        # Captura exceções específicas de timeout ou problemas de conexão\n",
    "        except (requests.exceptions.Timeout, requests.exceptions.ConnectionError) as e:\n",
    "            print(f\"  Erro de conexão/timeout para '{nome}' ({sexo_param}): {e}\")\n",
    "            if attempt < MAX_RETRIES - 1:\n",
    "                sleep_time = INITIAL_BACKOFF * (2 ** attempt) + random.uniform(0, 1) # Backoff exponencial + jitter\n",
    "                print(f\"  Aguardando {sleep_time:.2f} segundos antes de re-tentar...\")\n",
    "                time.sleep(sleep_time)\n",
    "            else:\n",
    "                print(f\"  Número máximo de tentativas ({MAX_RETRIES}) atingido para '{nome}' ({sexo_param}).\")\n",
    "                return 0\n",
    "        except requests.exceptions.RequestException as e:\n",
    "            # Para outros erros de requisição que não sejam timeout/conexão\n",
    "            print(f\"  Erro de Requisição para '{nome}' ({sexo_param}): {e}\")\n",
    "            return 0 # Não re-tentar para erros que não sejam de rede/timeout\n",
    "        except json.JSONDecodeError:\n",
    "            print(f\"  Erro ao decodificar JSON para '{nome}' ({sexo_param}).\")\n",
    "            return 0\n",
    "        except Exception as e:\n",
    "            print(f\"  Erro inesperado em _get_frequencia_por_sexo para '{nome}' ({sexo_param}): {e}\")\n",
    "            return 0\n",
    "    return 0 # Retorna 0 se todas as tentativas falharem\n",
    "\n",
    "# A função determinar_genero_nome permanece a mesma, pois as retentativas estão na auxiliar.\n",
    "def determinar_genero_nome(nome):\n",
    "    \"\"\"\n",
    "    Busca um nome na API do IBGE, soma as frequências por sexo\n",
    "    e determina o gênero predominante baseado na frequência feminina.\n",
    "    Atribui 'Desconhecido' se o nome não for encontrado ou não tiver dados.\n",
    "    Se a frequência feminina for exatamente 0.5, atribui o gênero aleatoriamente.\n",
    "    \"\"\"\n",
    "    print(f\"Iniciando busca para o nome: {nome.upper()}...\")\n",
    "\n",
    "    total_feminino = _get_frequencia_por_sexo(nome, \"F\")\n",
    "    total_masculino = _get_frequencia_por_sexo(nome, \"M\")\n",
    "\n",
    "    total_geral = total_feminino + total_masculino\n",
    "\n",
    "    if total_geral == 0:\n",
    "        print(f\"\\n--- Resultado para '{nome.upper()}' ---\")\n",
    "        print(f\"Nome '{nome}' não encontrado ou sem dados de frequência para nenhum sexo na API do IBGE.\")\n",
    "        print(\"**Gênero atribuído: Desconhecido.**\")\n",
    "        print(\"----------------------------------\\n\")\n",
    "        return \"Desconhecido\", None, (0, 0)\n",
    "\n",
    "    frequencia_feminina = total_feminino / total_geral\n",
    "\n",
    "    if frequencia_feminina > 0.5:\n",
    "        genero_atribuido = \"Feminino\"\n",
    "    elif frequencia_feminina < 0.5:\n",
    "        genero_atribuido = \"Masculino\"\n",
    "    else: # frequencia_feminina == 0.5\n",
    "        genero_atribuido = random.choice([\"Feminino\", \"Masculino\"])\n",
    "        print(f\"***Atenção: Frequência Feminina é exatamente 0.5. Gênero atribuído ALEATORIAMENTE.***\")\n",
    "    \n",
    "    print(f\"\\n--- Resultado para '{nome.upper()}' ---\")\n",
    "    print(f\"Total Feminino (Todas as décadas): {total_feminino}\")\n",
    "    print(f\"Total Masculino (Todas as décadas): {total_masculino}\")\n",
    "    print(f\"Total Geral: {total_geral}\")\n",
    "    print(f\"Frequência Feminina (Total): {frequencia_feminina:.4f}\")\n",
    "    print(f\"**Gênero Atribuído: {genero_atribuido}**\")\n",
    "    print(\"----------------------------------\\n\")\n",
    "\n",
    "    return genero_atribuido, frequencia_feminina, (total_feminino, total_masculino)\n",
    "\n",
    "# --- Testando a função com as novas regras de re-tentativa e backoff ---\n",
    "determinar_genero_nome(\"CHARLYNE\") \n",
    "determinar_genero_nome(\"Maria\")\n",
    "determinar_genero_nome(\"José\")\n",
    "determinar_genero_nome(\"NomeInexistenteTotal\")"
   ]
  },
  {
   "cell_type": "code",
   "execution_count": null,
   "id": "7d921a7e-eb01-444b-afe5-2ce3faf8f939",
   "metadata": {
    "collapsed": true,
    "jupyter": {
     "outputs_hidden": true
    }
   },
   "outputs": [],
   "source": [
    "nomes_genero = {}\n",
    "\n",
    "for nome in primeiros_nomes:\n",
    "    resultado_completo = determinar_genero_nome(nome)\n",
    "    genero = resultado_completo[0]\n",
    "    nomes_genero[nome] = genero"
   ]
  },
  {
   "cell_type": "code",
   "execution_count": null,
   "id": "5307c673-e479-4fa6-91f9-1d9ce3ac857e",
   "metadata": {
    "collapsed": true,
    "jupyter": {
     "outputs_hidden": true
    }
   },
   "outputs": [],
   "source": [
    "nomes_genero"
   ]
  },
  {
   "cell_type": "markdown",
   "id": "4c45a37a-bfea-4ef5-9bc7-1c4db7eadd08",
   "metadata": {},
   "source": [
    "## Obtendo gênero a partir de dados baixados localmente ([Brasil IO](https://brasil.io/dataset/genero-nomes/grupos/))"
   ]
  },
  {
   "cell_type": "code",
   "execution_count": null,
   "id": "84b86c81",
   "metadata": {},
   "outputs": [],
   "source": [
    "#Link de download do arquivo 'grupos.csv' do dataset 'Gênero dos nomes'\n",
    "url_gz_file = \"https://data.brasil.io/dataset/genero-nomes/grupos.csv.gz\"\n",
    "\n",
    "# Cabeçalhos para simular uma requisição de navegador\n",
    "headers = {\n",
    "    'User-Agent': 'Mozilla/5.0 (Windows NT 10.0; Win64; x64) AppleWebKit/537.36 (KHTML, like Gecko) Chrome/123.0.0.0 Safari/537.36'\n",
    "}\n",
    "\n",
    "\n",
    "# Passa os cabeçalhos através do parâmetro storage_options\n",
    "grupos = pd.read_csv(url_gz_file, storage_options=headers)"
   ]
  },
  {
   "cell_type": "code",
   "execution_count": null,
   "id": "2922b99c-eca2-4b28-9635-a590005c9b57",
   "metadata": {},
   "outputs": [],
   "source": [
    "grupos"
   ]
  },
  {
   "cell_type": "code",
   "execution_count": null,
   "id": "ffc6ce0a-2251-4d2b-9fb5-c45ee77702f7",
   "metadata": {},
   "outputs": [],
   "source": [
    "#Is 'name' always within 'names'?\n",
    "\n",
    "# Function to check if a value is in a pipe-separated string\n",
    "def is_value_in_split_column(main_value, pipe_separated_string):\n",
    "    if pd.isna(main_value) or pd.isna(pipe_separated_string):\n",
    "        return False # Handle NaN values\n",
    "\n",
    "    # Split the string by '|' and create a list\n",
    "    sub_category_list = [item.strip() for item in pipe_separated_string.split('|')]\n",
    "    \n",
    "    # Check if the main_value is in the list of sub_categories\n",
    "    return main_value in sub_category_list\n",
    "\n",
    "# axis=1 means apply the function to each row, so we can access columns by name\n",
    "grupos['Is_Main_In_Sub'] = grupos.apply(\n",
    "    lambda row: is_value_in_split_column(row['name'], row['names']), \n",
    "    axis=1\n",
    ")\n",
    "\n",
    "print(grupos['Is_Main_In_Sub'].all()) #'name' is always within 'names', so we can just use the 'names' and 'classification' columns"
   ]
  },
  {
   "cell_type": "markdown",
   "id": "7ba66101-3adf-4884-b66a-ed7a2cf741b2",
   "metadata": {},
   "source": [
    "### Criando um dicionario com nome e classificacao"
   ]
  },
  {
   "cell_type": "code",
   "execution_count": null,
   "id": "c51849e4-3de8-444a-ab4d-5997ccf5c103",
   "metadata": {},
   "outputs": [],
   "source": [
    "grupos_generos = grupos[['classification', 'names']]\n",
    "grupos_generos['list_names'] = grupos_generos['names'].str.split('|').apply(lambda x: [name.strip() for name in x if name.strip()])\n",
    "#split separa tudo com '|'\n",
    "#strip remove strings vazias e eventuais espaços\n",
    "\n",
    "grupos_generos"
   ]
  },
  {
   "cell_type": "code",
   "execution_count": null,
   "id": "82a11dcf-6f6b-49dd-8f6a-f0adb38475f0",
   "metadata": {},
   "outputs": [],
   "source": [
    "grupos_exploded = grupos_generos.drop(columns='names').explode('list_names')\n",
    "\n",
    "grupos_exploded"
   ]
  },
  {
   "cell_type": "code",
   "execution_count": null,
   "id": "cd636623-40a4-449d-b0d7-3843002b3acc",
   "metadata": {},
   "outputs": [],
   "source": [
    "dicionario_generos = grupos_exploded.set_index('list_names')['classification'].to_dict()"
   ]
  },
  {
   "cell_type": "code",
   "execution_count": null,
   "id": "a5dd20df-fcf1-49cf-bea8-0dda55e48732",
   "metadata": {
    "collapsed": true,
    "jupyter": {
     "outputs_hidden": true
    }
   },
   "outputs": [],
   "source": [
    "dicionario_generos"
   ]
  },
  {
   "cell_type": "markdown",
   "id": "ee138913",
   "metadata": {},
   "source": [
    "#### Salvando dicionário como arquivo json"
   ]
  },
  {
   "cell_type": "code",
   "execution_count": null,
   "id": "3bba8bdd",
   "metadata": {},
   "outputs": [],
   "source": [
    "arquivo_json = 'dicionario_generos.json'\n",
    "\n",
    "if os.path.exists(arquivo_json):\n",
    "    print(f\"Erro: O arquivo '{arquivo_json}' já existe. Nenhuma alteração foi feita.\")\n",
    "else:\n",
    "    try:\n",
    "        with open(arquivo_json, 'w', encoding='utf-8') as f:\n",
    "            json.dump(dicionario_generos, f, ensure_ascii=False, indent=4)\n",
    "            print(f\"Dicionário salvo com sucesso em '{arquivo_json}'.\")\n",
    "    except Exception as e:\n",
    "        print(f\"Ocorreu um erro ao salvar o dicionário como JSON: {e}\")"
   ]
  },
  {
   "cell_type": "markdown",
   "id": "bd02616f-1967-4c49-bde3-ef45c67a8e8d",
   "metadata": {},
   "source": [
    "### Usando o dicionario para atribuir genero aos dados da CAPES"
   ]
  },
  {
   "cell_type": "code",
   "execution_count": null,
   "id": "38058aad-cd08-47a4-878b-6277d9dd9471",
   "metadata": {},
   "outputs": [],
   "source": [
    "# Função para criar dicionario de generos baseado no arquivo 'grupos.csv' do Brasil IO\n",
    "def criar_dicionario_generos(grupos_csv_filepath: str) -> dict:\n",
    "    grupos = pd.read_csv(grupos_csv_filepath)[['classification', 'names']] #Pegando só colunas relevantes do arquivo csv\n",
    "    grupos['list_names'] = grupos['names'].str.split('|').apply(lambda x: [name.strip() for name in x if name.strip()]) #split separa tudo com '|', comprehension remove strings vazias e strip remove eventuais espaços\n",
    "    grupos_exploded = grupos.drop(columns='names').explode('list_names') #Pega a lista de nomes e a expande (explode) para um formato mais comprido\n",
    "    dicionario_generos = grupos_exploded.set_index('list_names')['classification'].to_dict() #Gerando dicionário de generos com base no primeiro nome\n",
    "    return dicionario_generos\n",
    "\n",
    "\n",
    "# Define a função auxiliar que será aplicada a cada nome completo\n",
    "def genero_baseado_no_primeiro_nome(nome_completo: str,\n",
    "                    dicionario_generos: dict) -> str:\n",
    "    \n",
    "    # Garante que é uma string, útil para lidar com NaNs ou outros tipos\n",
    "    nome_completo_str = str(nome_completo) \n",
    "    \n",
    "    primeiro_nome = nome_completo_str.split(' ')[0].strip().upper()\n",
    "    \n",
    "    # Usa .get() para retornar 'D' (Desconhecido) se o nome não for encontrado\n",
    "    return dicionario_generos.get(primeiro_nome, 'D')\n",
    "\n",
    "\n",
    "def adicionar_coluna_genero(df,\n",
    "                                 coluna_nome_completo: str, \n",
    "                                 dicionario_generos: dict,\n",
    "                                 coluna_genero: str,\n",
    "                       ):\n",
    "    \"\"\"\n",
    "    Extrai o primeiro nome de uma coluna, consulta um dicionário de gêneros baseados em primeiros nomes\n",
    "    e retorna os gêneros correspondentes em uma nova coluna, usando df.apply().\n",
    "\n",
    "    Args:\n",
    "        df (pd.DataFrame): O DataFrame de entrada.\n",
    "        coluna_nome_completo (str): O nome da coluna no DataFrame que contém os nomes completos.\n",
    "        dicionario_generos (dict): Um dicionário onde as chaves são os primeiros nomes (em maiúsculas)\n",
    "                                   e os valores são os gêneros ('F', 'M', 'Desconhecido', etc.).\n",
    "        coluna_genero (str): Nome da nova coluna com o genero inferido com base no primeiro nome,\n",
    "\n",
    "    Returns:\n",
    "        pd.DataFrame: O DataFrame original com uma nova coluna .\n",
    "    \"\"\"\n",
    "    df[coluna_genero] = df[coluna_nome_completo].apply(genero_baseado_no_primeiro_nome, \n",
    "                                                       dicionario_generos=dicionario_generos)\n",
    "    \n",
    "    return df"
   ]
  },
  {
   "cell_type": "markdown",
   "id": "06f5fc7f-05cb-47d7-bf53-563ec7440c41",
   "metadata": {},
   "source": [
    "#### Genero discentes"
   ]
  },
  {
   "cell_type": "code",
   "execution_count": null,
   "id": "0cc29cc7-ec9a-4ace-b639-917a6644c616",
   "metadata": {},
   "outputs": [],
   "source": [
    "dicionario_generos = criar_dicionario_generos('grupos.csv')"
   ]
  },
  {
   "cell_type": "code",
   "execution_count": null,
   "id": "39d607a4-3e22-45b8-a630-4393e93d0e7a",
   "metadata": {},
   "outputs": [],
   "source": [
    "discentes_com_genero = adicionar_coluna_genero(discentes,\n",
    "                                               'NM_DISCENTE',\n",
    "                                               dicionario_generos,\n",
    "                                               'GN_DISCENTE')"
   ]
  },
  {
   "cell_type": "code",
   "execution_count": null,
   "id": "64318328-d6ce-455e-a850-a99eabc5e7b7",
   "metadata": {},
   "outputs": [],
   "source": [
    "discentes_com_genero[['NM_DISCENTE','GN_DISCENTE']]"
   ]
  },
  {
   "cell_type": "code",
   "execution_count": null,
   "id": "870fa5e4-2f9b-42bd-8bf2-48095a1ca75b",
   "metadata": {},
   "outputs": [],
   "source": [
    "discentes_com_genero['GN_DISCENTE'].value_counts()"
   ]
  },
  {
   "cell_type": "markdown",
   "id": "78658e36-62e6-4939-8276-60c8db22392d",
   "metadata": {},
   "source": [
    "#### Genero docentes"
   ]
  },
  {
   "cell_type": "code",
   "execution_count": null,
   "id": "4b9d7d2a-1e30-4c14-9a37-fb898d933303",
   "metadata": {},
   "outputs": [],
   "source": [
    "docentes =  pd.read_excel('capes_docentes.xlsx')"
   ]
  },
  {
   "cell_type": "code",
   "execution_count": null,
   "id": "8c1db3f2-b40b-4a1e-8b9f-c740217b3a1d",
   "metadata": {},
   "outputs": [],
   "source": [
    "docentes.columns"
   ]
  },
  {
   "cell_type": "code",
   "execution_count": null,
   "id": "c8996d7a-31a5-42bb-bdc7-130fbcadc8e6",
   "metadata": {},
   "outputs": [],
   "source": [
    "docentes_com_genero = adicionar_coluna_genero(docentes,\n",
    "                                               'NM_DOCENTE',\n",
    "                                               dicionario_generos,\n",
    "                                               'GN_DOCENTE')"
   ]
  },
  {
   "cell_type": "code",
   "execution_count": null,
   "id": "f3e7817e-0e07-440c-8ef2-fd000b67c920",
   "metadata": {
    "scrolled": true
   },
   "outputs": [],
   "source": [
    "docentes_com_genero[['NM_DOCENTE', 'GN_DOCENTE']]"
   ]
  },
  {
   "cell_type": "code",
   "execution_count": null,
   "id": "a0793149-d48c-4003-9faa-0789165af5dd",
   "metadata": {},
   "outputs": [],
   "source": [
    "docentes_com_genero['GN_DOCENTE'].value_counts()"
   ]
  },
  {
   "cell_type": "code",
   "execution_count": null,
   "id": "58740ed3-7b68-4a5e-af75-ef0bcbb2f722",
   "metadata": {},
   "outputs": [],
   "source": []
  }
 ],
 "metadata": {
  "kernelspec": {
   "display_name": "venv",
   "language": "python",
   "name": "python3"
  },
  "language_info": {
   "codemirror_mode": {
    "name": "ipython",
    "version": 3
   },
   "file_extension": ".py",
   "mimetype": "text/x-python",
   "name": "python",
   "nbconvert_exporter": "python",
   "pygments_lexer": "ipython3",
   "version": "3.12.3"
  }
 },
 "nbformat": 4,
 "nbformat_minor": 5
}
